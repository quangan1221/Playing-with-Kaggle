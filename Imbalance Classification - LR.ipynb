{
 "cells": [
  {
   "cell_type": "code",
   "execution_count": 7,
   "metadata": {
    "collapsed": false,
    "nbpresent": {
     "id": "bfd30125-e97d-45ba-b134-e2e9ec93186e"
    }
   },
   "outputs": [
    {
     "data": {
      "text/plain": [
       "<matplotlib.text.Text at 0x23dabf347f0>"
      ]
     },
     "execution_count": 7,
     "metadata": {},
     "output_type": "execute_result"
    },
    {
     "data": {
      "image/png": "[encoded data removed]",
      "text/plain": [
       "<matplotlib.figure.Figure at 0x23dabe7bc50>"
      ]
     },
     "metadata": {},
     "output_type": "display_data"
    }
   ],
   "source": [
    "import pandas as pd\n",
    "import matplotlib.pyplot as plt\n",
    "import numpy as np\n",
    "import os\n",
    "% matplotlib inline\n",
    "\n",
    "os.chdir('C:/Users/qg186002/Documents/ipython')\n",
    "\n",
    "data=pd.read_csv('creditcard.csv')\n",
    "\n",
    "#data exploration \n",
    "#label extremely skewed\n",
    "#pd.value_counts: groupby value\n",
    "count_classes = pd.value_counts(data['Class'], sort = True).sort_index()\n",
    "\n",
    "\n",
    "#matplotlib\n",
    "count_classes.plot(kind = 'bar')h\n",
    "plt.title(\"Fraud class histogram\")\n",
    "plt.xlabel(\"Class\")\n",
    "plt.ylabel(\"Frequency\")"
   ]
  },
  {
   "cell_type": "code",
   "execution_count": 8,
   "metadata": {
    "collapsed": true,
    "nbpresent": {
     "id": "46a967a7-6e15-4314-90f1-97eb7c76a6e1"
    }
   },
   "outputs": [],
   "source": [
    "from sklearn.preprocessing import StandardScaler\n",
    "#1.normalising amount column. Other features are all normalied pca features\n",
    "data['normAmount']=StandardScaler().fit_transform(data['Amount'].reshape(-1,1))\n",
    "#reshape(-1,1)  [1,2,3,4] (4,) -> [[1],[2],[3],[4]]\n",
    "\n",
    "data=data.drop(['Time','Amount'],1)\n",
    "\n",
    "#2.Assigning X and Y. No resampling. \n",
    "X=data.ix[:,data.columns!='Class']  # features\n",
    "y=data.ix[:,data.columns=='Class']\n",
    "\n",
    "\n",
    "# class=0 : normal  ; class=1 : fraud\n",
    "number_records_fraud=len(data[data.Class==1])\n",
    "\n",
    "fraud_indices=np.array(data[data.Class==1].index)\n",
    "\n",
    "normal_indices=data[data.Class==0].index"
   ]
  },
  {
   "cell_type": "code",
   "execution_count": 9,
   "metadata": {
    "collapsed": false,
    "nbpresent": {
     "id": "1d94a271-cebc-4121-8d32-9fbb95a49a46"
    }
   },
   "outputs": [
    {
     "name": "stdout",
     "output_type": "stream",
     "text": [
      "Percentage of normal transactions:  0.5\n",
      "Percentage of fraud transactions:  0.5\n",
      "Total number of transactions in resampled data:  984\n"
     ]
    },
    {
     "name": "stderr",
     "output_type": "stream",
     "text": [
      "C:\\Users\\qg186002\\AppData\\Local\\Continuum\\Anaconda3\\Lib\\site-packages\\sklearn\\cross_validation.py:44: DeprecationWarning: This module was deprecated in version 0.18 in favor of the model_selection module into which all the refactored classes and functions are moved. Also note that the interface of the new CV iterators are different from that of this module. This module will be removed in 0.20.\n",
      "  \"This module will be removed in 0.20.\", DeprecationWarning)\n"
     ]
    },
    {
     "name": "stdout",
     "output_type": "stream",
     "text": [
      "Number transactions train dataset:  199364\n",
      "Number transactions test dataset:  85443\n",
      "Total number of transactions:  284807\n"
     ]
    }
   ],
   "source": [
    "#3.randomly resamplinng: via indices np.random.choice()\n",
    "#SMOTE: synthetic Minority Over-Sampling Technique: hybrid of under + oversampling8\n",
    "#not like oversampling by replicating minority class, but by constructing new minorities via an algo.\n",
    "\n",
    "#in this case, undersampling: create a 50/50 ratio. Just delete items from the over represented class.\n",
    "#pick normal data of equal length with fraud data:492\n",
    "random_normal_indices=np.random.choice(normal_indices,number_records_fraud,replace=False)\n",
    "random_normal_indices=np.array(random_normal_indices)\n",
    "\n",
    "\n",
    "#Appending 2 indices\n",
    "under_sample_indices=np.concatenate([fraud_indices,random_normal_indices])\n",
    "\n",
    "under_sample_data=data.iloc[under_sample_indices,:]\n",
    "\n",
    "X_undersample=under_sample_data.ix[:,under_sample_data.columns!='Class']\n",
    "y_undersample=under_sample_data.ix[:,under_sample_data.columns=='Class']\n",
    "#now 984 balanced data\n",
    "# Showing ratio\n",
    "print(\"Percentage of normal transactions: \", len(under_sample_data[under_sample_data.Class == 0])/len(under_sample_data))\n",
    "print(\"Percentage of fraud transactions: \", len(under_sample_data[under_sample_data.Class == 1])/len(under_sample_data))\n",
    "print(\"Total number of transactions in resampled data: \", len(under_sample_data))\n",
    "\n",
    "#4. spliting into train and test\n",
    "from sklearn.cross_validation import train_test_split\n",
    "\n",
    "#whole\n",
    "X_train,X_test,y_train,y_test=train_test_split(X,y,test_size=0.3)\n",
    "print(\"Number transactions train dataset: \", len(X_train))\n",
    "print(\"Number transactions test dataset: \", len(X_test))\n",
    "print(\"Total number of transactions: \", len(X_train)+len(X_test))\n",
    "\n",
    "\n",
    "#undersample\n",
    "# Undersampled dataset\n",
    "X_train_undersample, X_test_undersample,y_train_undersample, y_test_undersample = train_test_split(X_undersample,y_undersample,test_size = 0.3,random_state = 0)\n"
   ]
  },
  {
   "cell_type": "code",
   "execution_count": 11,
   "metadata": {
    "collapsed": false,
    "nbpresent": {
     "id": "db2f68fa-e848-406c-9b1f-353a9d397bb9"
    }
   },
   "outputs": [
    {
     "name": "stdout",
     "output_type": "stream",
     "text": [
      "-------------------------------------------\n",
      "C parameter:  0.01\n",
      "-------------------------------------------\n",
      "\n",
      "Iteration 1  : recall score=  0.958904109589\n",
      "Iteration 2  : recall score=  0.931506849315\n",
      "Iteration 3  : recall score=  1.0\n",
      "Iteration 4  : recall score=  0.986486486486\n",
      "Iteration 5  : recall score=  0.969696969697\n",
      "\n",
      "Mean recall score  0.969318883018\n",
      "\n",
      "-------------------------------------------\n",
      "C parameter:  0.1\n",
      "-------------------------------------------\n",
      "\n",
      "Iteration 1  : recall score=  0.849315068493\n",
      "Iteration 2  : recall score=  0.86301369863\n",
      "Iteration 3  : recall score=  0.932203389831\n",
      "Iteration 4  : recall score=  0.945945945946\n",
      "Iteration 5  : recall score=  0.909090909091\n",
      "\n",
      "Mean recall score  0.899913802398\n",
      "\n",
      "-------------------------------------------\n",
      "C parameter:  1\n",
      "-------------------------------------------\n",
      "\n",
      "Iteration 1  : recall score=  0.86301369863\n",
      "Iteration 2  : recall score=  0.890410958904\n",
      "Iteration 3  : recall score=  0.983050847458\n",
      "Iteration 4  : recall score=  0.945945945946\n",
      "Iteration 5  : recall score=  0.924242424242\n",
      "\n",
      "Mean recall score  0.921332775036\n",
      "\n",
      "-------------------------------------------\n",
      "C parameter:  10\n",
      "-------------------------------------------\n",
      "\n",
      "Iteration 1  : recall score=  0.876712328767\n",
      "Iteration 2  : recall score=  0.890410958904\n",
      "Iteration 3  : recall score=  0.983050847458\n",
      "Iteration 4  : recall score=  0.945945945946\n",
      "Iteration 5  : recall score=  0.924242424242\n",
      "\n",
      "Mean recall score  0.924072501063\n",
      "\n",
      "-------------------------------------------\n",
      "C parameter:  100\n",
      "-------------------------------------------\n",
      "\n",
      "Iteration 1  : recall score=  0.876712328767\n",
      "Iteration 2  : recall score=  0.890410958904\n",
      "Iteration 3  : recall score=  0.983050847458\n",
      "Iteration 4  : recall score=  0.945945945946\n",
      "Iteration 5  : recall score=  0.924242424242\n",
      "\n",
      "Mean recall score  0.924072501063\n",
      "\n",
      "*********************************************************************************\n",
      "Best model to choose from cross validation is with C parameter =  0.01\n",
      "*********************************************************************************\n"
     ]
    },
    {
     "data": {
      "text/plain": [
       "LogisticRegression(C=0.01, class_weight=None, dual=False, fit_intercept=True,\n",
       "          intercept_scaling=1, max_iter=100, multi_class='ovr', n_jobs=1,\n",
       "          penalty='l1', random_state=None, solver='liblinear', tol=0.0001,\n",
       "          verbose=0, warm_start=False)"
      ]
     },
     "execution_count": 11,
     "metadata": {},
     "output_type": "execute_result"
    }
   ],
   "source": [
    "#5. logsitic regression classifier - undersampled data\n",
    "#accuracy=(TP+TN)/TOTAL\n",
    "#precision=TP/(TP+FP)\n",
    "#RECALL=TP/(TP+FN)\n",
    "from sklearn.linear_model import LogisticRegression\n",
    "from sklearn.cross_validation import KFold, cross_val_score\n",
    "#K-fold cross validation\n",
    "\n",
    "from sklearn.metrics import confusion_matrix, precision_recall_curve,auc,roc_auc_score,roc_curve,recall_score,classification_report\n",
    "# with C - regularization power smaller stronger,  l1 or l2 penalty\n",
    "\n",
    "#Call the logistic regression model with a certain C parameter\n",
    "#model selection\n",
    "def Cross_Validation(x_train_data,y_train_data): \n",
    "# the k-fold will give 2 lists: train_indices = indices[0], test_indices = indices[1]\n",
    "# split train into k equal blocks, train all blocks except one as validation set\n",
    "# K-fold CV: K=5 blocks <-> K=5 iterations\n",
    "# compute the average error rate/quality metrics as the model selection criterion for parameter c. \n",
    "    fold=KFold(len(y_train_data),5,shuffle=False)\n",
    "    \n",
    "    #Regularization parameters C: inverse of regularization power\n",
    "    #with penalty term, like lambda\n",
    "    c_param_range=[0.01,0.1,1,10,100]\n",
    "\n",
    "#intialize one result table \n",
    "    results_table=pd.DataFrame(index=range(len(c_param_range),2),columns=['C_parameter','Mean recall score'])\n",
    "    results_table['C_parameter']=c_param_range\n",
    "\n",
    "#K-FOLD CV STARTS, compute estimation of recall score for each parameter\n",
    "    j=0\n",
    "    for c_param in c_param_range:\n",
    "        print('-------------------------------------------')\n",
    "        print('C parameter: ', c_param)\n",
    "        print('-------------------------------------------')\n",
    "        print('')\n",
    "        \n",
    "        recall_accs=[]\n",
    "        \n",
    "# the k-fold will give 2 lists: train_indices = indices[0], test_indices = indices[1]\n",
    "        for iteration,indices in enumerate(fold,start=1):\n",
    "            lr=LogisticRegression(C=c_param, penalty='l1')\n",
    "            #Use the training data except for the validation block to fit the model.\n",
    "            lr.fit(x_train_data.iloc[indices[0],:],y_train_data.iloc[indices[0],:].values.ravel())\n",
    "            #predict on validation set\n",
    "            y_pred_undersample=lr.predict(x_train_data.iloc[indices[1],:].values)\n",
    "            # Calculate the recall score and append it to a list for recall scores representing the current c_parameter\n",
    "            recall_acc=recall_score(y_train_data.iloc[indices[1],:],y_pred_undersample)\n",
    "            recall_accs.append(recall_acc)\n",
    "            print('Iteration', iteration,' : recall score= ',recall_acc)\n",
    "            \n",
    "# The mean value of those recall scores is the metric we want to save and get hold of.    \n",
    "        results_table.ix[j,'Mean recall score'] = np.mean(recall_accs)         \n",
    "        print('')\n",
    "        print('Mean recall score ', np.mean(recall_accs))\n",
    "        print('')\n",
    "        j+=1\n",
    "        \n",
    "#choose the parameter c with the highest recall score\n",
    "#pandas: idxmax()\n",
    "    best_c = results_table.loc[results_table['Mean recall score'].idxmax()]['C_parameter']\n",
    "# Finally, we can check which C parameter is the best amongst the chosen.\n",
    "    print('*********************************************************************************')\n",
    "    print('Best model to choose from cross validation is with C parameter = ', best_c)\n",
    "    print('*********************************************************************************')\n",
    "    \n",
    "    return best_c\n",
    "\n",
    "#Training \n",
    "best_c = Cross_Validation(X_train_undersample,y_train_undersample)\n",
    "lr=LogisticRegression(C=best_c,penalty='l1')\n",
    "\n",
    "lr.fit(X_train_undersample,y_train_undersample.values.ravel())\n",
    "#ravel: contrary to reshape\n",
    "#y_x=y_test_undersample.values.ravel()"
   ]
  },
  {
   "cell_type": "code",
   "execution_count": 15,
   "metadata": {
    "collapsed": false,
    "nbpresent": {
     "id": "5cc477f2-de39-4934-8707-87b9e75d2856"
    },
    "scrolled": true
   },
   "outputs": [
    {
     "name": "stdout",
     "output_type": "stream",
     "text": [
      "             precision    recall  f1-score   support\n",
      "\n",
      "          0       0.95      0.82      0.88       149\n",
      "          1       0.84      0.96      0.90       147\n",
      "\n",
      "avg / total       0.90      0.89      0.89       296\n",
      "\n",
      "Recall metric in the testing dataset:  0.959183673469\n"
     ]
    },
    {
     "data": {
      "text/plain": [
       "0    149\n",
       "1    147\n",
       "Name: Class, dtype: int64"
      ]
     },
     "execution_count": 15,
     "metadata": {},
     "output_type": "execute_result"
    }
   ],
   "source": [
    "#Predictions on test set and plotting confusion matrix\n",
    "\n",
    "y_pred_undersample=lr.predict(X_test_undersample.values)\n",
    "\n",
    "#accuracy:\n",
    "1-sum((y_pred_undersample-y_test_undersample.values.ravel())**2)/len(y_pred_undersample)\n",
    "\n",
    "\n",
    "#classcification metrics\n",
    "#predict probabilities for classes\n",
    "p=lr.fit(X_train_undersample,y_train_undersample.values.ravel()).predict_proba(X_test_undersample.values)\n",
    "\n",
    "from sklearn.metrics import classification_report\n",
    "print(classification_report(y_test_undersample, y_pred_undersample, target_names=['0','1']))\n",
    "\n",
    "#confusion_matrix\n",
    "cnf_matrix=confusion_matrix(y_test_undersample,y_pred_undersample)\n",
    "np.set_printoptions(precision=2)\n",
    "print(\"Recall metric in the testing dataset: \", cnf_matrix[1,1]/(cnf_matrix[1,0]+cnf_matrix[1,1]))\n",
    "\n",
    "pd.value_counts(y_test_undersample['Class'],sort=True).sort_index()\n",
    "\n",
    "\n"
   ]
  },
  {
   "cell_type": "code",
   "execution_count": 14,
   "metadata": {
    "collapsed": false,
    "nbpresent": {
     "id": "9606d517-3dae-462d-8d54-6e3c76d26af2"
    }
   },
   "outputs": [
    {
     "data": {
      "image/png": "[encoded data removed]",
      "text/plain": [
       "<matplotlib.figure.Figure at 0x23dabf34438>"
      ]
     },
     "metadata": {},
     "output_type": "display_data"
    },
    {
     "name": "stdout",
     "output_type": "stream",
     "text": [
      "Recall metric in the testing dataset:  0.954545454545\n"
     ]
    },
    {
     "data": {
      "image/png": "[encoded data removed]",
      "text/plain": [
       "<matplotlib.figure.Figure at 0x23dae3c0cc0>"
      ]
     },
     "metadata": {},
     "output_type": "display_data"
    }
   ],
   "source": [
    "##################################plot confusion matrix###################################\n",
    "import itertools\n",
    "\n",
    "def plot_confusion_matrix(cm, classes,\n",
    "                          normalize=False,\n",
    "                          title='Confusion matrix',\n",
    "                          cmap=plt.cm.Greens):\n",
    "    \"\"\"\n",
    "    This function prints and plots the confusion matrix.\n",
    "    Normalization can be applied by setting `normalize=True`.\n",
    "    \"\"\"\n",
    "    \n",
    "    \n",
    "    plt.imshow(cm,interpolation='nearest', cmap=cmap)\n",
    "    plt.title(title)\n",
    "    plt.colorbar()\n",
    "    tick_marks = np.arange(len(classes))\n",
    "    plt.xticks(tick_marks, classes, rotation=0)  \n",
    "    plt.yticks(tick_marks, classes)\n",
    "\n",
    "    if normalize:\n",
    "        cm = cm.astype('float') / cm.sum(axis=1)[:, np.newaxis]\n",
    "        #print(\"Normalized confusion matrix\")\n",
    "    else:\n",
    "        1#print('Confusion matrix, without normalization')\n",
    "\n",
    "    #print(cm)\n",
    "    thresh = cm.max() / 2.\n",
    "    for i, j in itertools.product(range(cm.shape[0]), range(cm.shape[1])):\n",
    "        plt.text(j, i, cm[i, j],\n",
    "                 horizontalalignment=\"center\",\n",
    "                 color=\"white\" if cm[i, j] > thresh else \"black\")\n",
    "\n",
    "    plt.tight_layout()\n",
    "    plt.ylabel('True label')\n",
    "    plt.xlabel('Predicted label')\n",
    "    \n",
    "##########plot\n",
    "\n",
    "##########plot\n",
    "class_names = [0,1]\n",
    "plt.figure()\n",
    "plot_confusion_matrix(cnf_matrix\n",
    "                      , classes=class_names\n",
    "                      , title='Confusion matrix')\n",
    "plt.show()\n",
    "\n",
    "\n",
    "# test on the whole test set\n",
    "y_pred=lr.predict(X_test.values)\n",
    "\n",
    "cnf_matrix_all=confusion_matrix(y_test,y_pred)\n",
    "print(\"Recall metric in the testing dataset: \", cnf_matrix_all[1,1]/(cnf_matrix_all[1,0]+cnf_matrix_all[1,1]))\n",
    "\n",
    "plt.figure()\n",
    "plot_confusion_matrix(cnf_matrix_all,class_names,title='Confusion matrix whole data')\n",
    "plt.show()\n"
   ]
  },
  {
   "cell_type": "code",
   "execution_count": 16,
   "metadata": {
    "collapsed": false,
    "nbpresent": {
     "id": "f0e2b4e8-f618-4049-8218-be54270a68ef"
    },
    "scrolled": false
   },
   "outputs": [
    {
     "data": {
      "image/png": "[encoded data removed]",
      "text/plain": [
       "<matplotlib.figure.Figure at 0x23dae48d0b8>"
      ]
     },
     "metadata": {},
     "output_type": "display_data"
    }
   ],
   "source": [
    "#plot roc curve : Receiver Operating Characteristic \n",
    "#auc:area under roc curve\n",
    "#decision_function: confidence score\n",
    "y_pred_undersample_score=lr.fit(X_train_undersample,y_train_undersample.values.ravel()).decision_function(X_test_undersample.values)\n",
    "#predict_proba for class 1\n",
    "#y_pred_undersample_score=lr.fit(X_train_undersample,y_train_undersample.values.ravel()).predict_proba(X_test_undersample.values)[:,1]\n",
    "\n",
    "fpr, tpr, thresholds = roc_curve(y_test_undersample.values.ravel(),y_pred_undersample_score)\n",
    "roc_auc = auc(fpr,tpr)\n",
    "\n",
    "plt.title('Receiver Operating Characteristc')\n",
    "plt.plot(fpr,tpr,'b',label='AUC=%0.2f'% roc_auc)\n",
    "plt.legend(loc='lower right')\n",
    "plt.plot([0,1],[0,1],'r--') #diagonal\n",
    "plt.xlim([-0.1,1.0]) \n",
    "plt.ylim([-0.1,1.0])\n",
    "plt.ylabel('True Positive Rate')\n",
    "plt.xlabel('False Positive Rate')\n",
    "plt.show()\n"
   ]
  },
  {
   "cell_type": "code",
   "execution_count": null,
   "metadata": {
    "collapsed": true,
    "nbpresent": {
     "id": "d6e9b8be-caf1-48e4-997b-3069d1123bf1"
    }
   },
   "outputs": [],
   "source": []
  }
 ],
 "metadata": {
  "anaconda-cloud": {},
  "kernelspec": {
   "display_name": "Python [default]",
   "language": "python",
   "name": "python3"
  },
  "language_info": {
   "codemirror_mode": {
    "name": "ipython",
    "version": 3
   },
   "file_extension": ".py",
   "mimetype": "text/x-python",
   "name": "python",
   "nbconvert_exporter": "python",
   "pygments_lexer": "ipython3",
   "version": "3.5.2"
  },
  "nbpresent": {
   "slides": {
    "05f1aec2-e17b-49e2-82c0-de29cbc43328": {
     "id": "05f1aec2-e17b-49e2-82c0-de29cbc43328",
     "prev": "09c4bdc4-12d6-4a35-a9da-77bb5324b39d",
     "regions": {
      "4a6a7cee-89d3-43d3-9b1c-19e6c9268f22": {
       "attrs": {
        "height": 0.8,
        "width": 0.8,
        "x": 0.1,
        "y": 0.1
       },
       "content": {
        "cell": "46a967a7-6e15-4314-90f1-97eb7c76a6e1",
        "part": "whole"
       },
       "id": "4a6a7cee-89d3-43d3-9b1c-19e6c9268f22"
      }
     }
    },
    "09c4bdc4-12d6-4a35-a9da-77bb5324b39d": {
     "id": "09c4bdc4-12d6-4a35-a9da-77bb5324b39d",
     "prev": "18e252e6-c48c-4fc2-9001-2de1d23d36e4",
     "regions": {
      "460aab65-c1f0-491f-92de-4531a2ac53c1": {
       "attrs": {
        "height": 0.8,
        "width": 0.8,
        "x": 0.1,
        "y": 0.1
       },
       "content": {
        "cell": "bfd30125-e97d-45ba-b134-e2e9ec93186e",
        "part": "whole"
       },
       "id": "460aab65-c1f0-491f-92de-4531a2ac53c1"
      }
     }
    },
    "0ead6fdc-b3d6-4ac8-8a5e-2eb40ddfb020": {
     "id": "0ead6fdc-b3d6-4ac8-8a5e-2eb40ddfb020",
     "prev": "1298e280-8164-4d69-a83f-89744bf186d5",
     "regions": {
      "86ddebfe-9662-444c-8069-3d6b1a1415a8": {
       "attrs": {
        "height": 0.8,
        "width": 0.8,
        "x": 0.1,
        "y": 0.1
       },
       "content": {
        "cell": "953b7fc8-2ce3-437c-afb9-c724f4b1766d",
        "part": "whole"
       },
       "id": "86ddebfe-9662-444c-8069-3d6b1a1415a8"
      }
     }
    },
    "1298e280-8164-4d69-a83f-89744bf186d5": {
     "id": "1298e280-8164-4d69-a83f-89744bf186d5",
     "prev": "95f6af18-78d1-4b1d-8d9c-54b8bb58ccc2",
     "regions": {
      "31aee66d-34e1-4e94-ac45-784795399cfe": {
       "attrs": {
        "height": 0.8,
        "width": 0.8,
        "x": 0.1,
        "y": 0.1
       },
       "content": {
        "cell": "5cc477f2-de39-4934-8707-87b9e75d2856",
        "part": "whole"
       },
       "id": "31aee66d-34e1-4e94-ac45-784795399cfe"
      }
     }
    },
    "18e252e6-c48c-4fc2-9001-2de1d23d36e4": {
     "id": "18e252e6-c48c-4fc2-9001-2de1d23d36e4",
     "prev": "e0dcbc25-3fc4-44d8-b26b-84599f5618ce",
     "regions": {
      "681cde5a-6f30-4d67-ad78-062e47ebe596": {
       "attrs": {
        "height": 0.8,
        "width": 0.8,
        "x": 0.1,
        "y": 0.1
       },
       "content": {
        "cell": "2845b737-bf8d-4eaf-b19e-198861c66bd0",
        "part": "whole"
       },
       "id": "681cde5a-6f30-4d67-ad78-062e47ebe596"
      }
     }
    },
    "3be6e7ef-a31e-4c27-bf3b-3d78678e2df2": {
     "id": "3be6e7ef-a31e-4c27-bf3b-3d78678e2df2",
     "prev": "65870847-72b0-407b-b72e-1d7f5e08c1ce",
     "regions": {
      "ef0fb38d-edf4-4a6e-aa9f-dba2db595d33": {
       "attrs": {
        "height": 0.8,
        "width": 0.8,
        "x": 0.1,
        "y": 0.1
       },
       "content": {
        "cell": "f0e2b4e8-f618-4049-8218-be54270a68ef",
        "part": "whole"
       },
       "id": "ef0fb38d-edf4-4a6e-aa9f-dba2db595d33"
      }
     }
    },
    "65870847-72b0-407b-b72e-1d7f5e08c1ce": {
     "id": "65870847-72b0-407b-b72e-1d7f5e08c1ce",
     "prev": "0ead6fdc-b3d6-4ac8-8a5e-2eb40ddfb020",
     "regions": {
      "7b82fffa-013f-4822-8d70-f57ca3f4fbc1": {
       "attrs": {
        "height": 0.8,
        "width": 0.8,
        "x": 0.1,
        "y": 0.1
       },
       "content": {
        "cell": "9606d517-3dae-462d-8d54-6e3c76d26af2",
        "part": "whole"
       },
       "id": "7b82fffa-013f-4822-8d70-f57ca3f4fbc1"
      }
     }
    },
    "65a03768-a035-40f6-8af7-1f4791e996d6": {
     "id": "65a03768-a035-40f6-8af7-1f4791e996d6",
     "prev": "c40deba6-a355-4265-8d87-03b5a24b1b71",
     "regions": {
      "8b0d6662-98e2-4218-89e8-5f1519a84e1d": {
       "attrs": {
        "height": 0.8,
        "width": 0.8,
        "x": 0.1,
        "y": 0.1
       },
       "content": {
        "cell": "1af6ec9f-7f99-4fa4-9c10-2f894c547f1b",
        "part": "whole"
       },
       "id": "8b0d6662-98e2-4218-89e8-5f1519a84e1d"
      }
     }
    },
    "8831ca6f-2735-4b13-b091-efa5b4bdecfb": {
     "id": "8831ca6f-2735-4b13-b091-efa5b4bdecfb",
     "prev": "3be6e7ef-a31e-4c27-bf3b-3d78678e2df2",
     "regions": {
      "a04582cc-5392-48f0-afc3-f3cea77b43eb": {
       "attrs": {
        "height": 0.8,
        "width": 0.8,
        "x": 0.1,
        "y": 0.1
       },
       "content": {
        "cell": "d6e9b8be-caf1-48e4-997b-3069d1123bf1",
        "part": "whole"
       },
       "id": "a04582cc-5392-48f0-afc3-f3cea77b43eb"
      }
     }
    },
    "95f6af18-78d1-4b1d-8d9c-54b8bb58ccc2": {
     "id": "95f6af18-78d1-4b1d-8d9c-54b8bb58ccc2",
     "prev": "65a03768-a035-40f6-8af7-1f4791e996d6",
     "regions": {
      "e5258596-e96e-43fb-8fbb-a71ee62e1653": {
       "attrs": {
        "height": 0.8,
        "width": 0.8,
        "x": 0.1,
        "y": 0.1
       },
       "content": {
        "cell": "db2f68fa-e848-406c-9b1f-353a9d397bb9",
        "part": "whole"
       },
       "id": "e5258596-e96e-43fb-8fbb-a71ee62e1653"
      }
     }
    },
    "a88fb172-3101-43df-a42d-20fde7bc5a9c": {
     "id": "a88fb172-3101-43df-a42d-20fde7bc5a9c",
     "prev": null,
     "regions": {
      "487283a4-6af5-4362-8dee-da698b0ef9bd": {
       "attrs": {
        "height": 0.8,
        "width": 0.8,
        "x": 0.1,
        "y": 0.1
       },
       "content": {
        "cell": "399d21a1-31be-48c6-8896-fe969b1cf030",
        "part": "whole"
       },
       "id": "487283a4-6af5-4362-8dee-da698b0ef9bd"
      }
     }
    },
    "c40deba6-a355-4265-8d87-03b5a24b1b71": {
     "id": "c40deba6-a355-4265-8d87-03b5a24b1b71",
     "prev": "05f1aec2-e17b-49e2-82c0-de29cbc43328",
     "regions": {
      "ae2d5bb7-0afe-4ff3-8ffe-f4f6be302ead": {
       "attrs": {
        "height": 0.8,
        "width": 0.8,
        "x": 0.1,
        "y": 0.1
       },
       "content": {
        "cell": "1d94a271-cebc-4121-8d32-9fbb95a49a46",
        "part": "whole"
       },
       "id": "ae2d5bb7-0afe-4ff3-8ffe-f4f6be302ead"
      }
     }
    },
    "e0dcbc25-3fc4-44d8-b26b-84599f5618ce": {
     "id": "e0dcbc25-3fc4-44d8-b26b-84599f5618ce",
     "prev": "a88fb172-3101-43df-a42d-20fde7bc5a9c",
     "regions": {
      "7940a268-9548-49b1-a03a-bf939c103d19": {
       "attrs": {
        "height": 0.8,
        "width": 0.8,
        "x": 0.1,
        "y": 0.1
       },
       "content": {
        "cell": "47e93f10-06fb-42a3-98aa-11edf6361d6d",
        "part": "whole"
       },
       "id": "7940a268-9548-49b1-a03a-bf939c103d19"
      }
     }
    }
   },
   "themes": {}
  }
 },
 "nbformat": 4,
 "nbformat_minor": 1
}
